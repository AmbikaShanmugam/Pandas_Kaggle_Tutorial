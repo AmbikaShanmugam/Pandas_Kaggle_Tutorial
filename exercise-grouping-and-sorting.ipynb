{
 "cells": [
  {
   "cell_type": "markdown",
   "id": "b109ffa5",
   "metadata": {
    "papermill": {
     "duration": 0.01422,
     "end_time": "2021-12-26T16:06:12.961429",
     "exception": false,
     "start_time": "2021-12-26T16:06:12.947209",
     "status": "completed"
    },
    "tags": []
   },
   "source": [
    "**This notebook is an exercise in the [Pandas](https://www.kaggle.com/learn/pandas) course.  You can reference the tutorial at [this link](https://www.kaggle.com/residentmario/grouping-and-sorting).**\n",
    "\n",
    "---\n"
   ]
  },
  {
   "cell_type": "markdown",
   "id": "f582c5b0",
   "metadata": {
    "papermill": {
     "duration": 0.012656,
     "end_time": "2021-12-26T16:06:12.988781",
     "exception": false,
     "start_time": "2021-12-26T16:06:12.976125",
     "status": "completed"
    },
    "tags": []
   },
   "source": [
    "# Introduction\n",
    "\n",
    "In these exercises we'll apply groupwise analysis to our dataset.\n",
    "\n",
    "Run the code cell below to load the data before running the exercises."
   ]
  },
  {
   "cell_type": "code",
   "execution_count": 1,
   "id": "2f9ba8e8",
   "metadata": {
    "execution": {
     "iopub.execute_input": "2021-12-26T16:06:13.022519Z",
     "iopub.status.busy": "2021-12-26T16:06:13.020415Z",
     "iopub.status.idle": "2021-12-26T16:06:16.037104Z",
     "shell.execute_reply": "2021-12-26T16:06:16.036377Z",
     "shell.execute_reply.started": "2021-12-26T16:01:15.386836Z"
    },
    "papermill": {
     "duration": 3.035667,
     "end_time": "2021-12-26T16:06:16.037310",
     "exception": false,
     "start_time": "2021-12-26T16:06:13.001643",
     "status": "completed"
    },
    "tags": []
   },
   "outputs": [
    {
     "name": "stdout",
     "output_type": "stream",
     "text": [
      "Setup complete.\n"
     ]
    }
   ],
   "source": [
    "import pandas as pd\n",
    "\n",
    "reviews = pd.read_csv(\"../input/wine-reviews/winemag-data-130k-v2.csv\", index_col=0)\n",
    "#pd.set_option(\"display.max_rows\", 5)\n",
    "\n",
    "from learntools.core import binder; binder.bind(globals())\n",
    "from learntools.pandas.grouping_and_sorting import *\n",
    "print(\"Setup complete.\")"
   ]
  },
  {
   "cell_type": "markdown",
   "id": "a694e76d",
   "metadata": {
    "papermill": {
     "duration": 0.013201,
     "end_time": "2021-12-26T16:06:16.064364",
     "exception": false,
     "start_time": "2021-12-26T16:06:16.051163",
     "status": "completed"
    },
    "tags": []
   },
   "source": [
    "# Exercises"
   ]
  },
  {
   "cell_type": "markdown",
   "id": "db99b02c",
   "metadata": {
    "papermill": {
     "duration": 0.012916,
     "end_time": "2021-12-26T16:06:16.090450",
     "exception": false,
     "start_time": "2021-12-26T16:06:16.077534",
     "status": "completed"
    },
    "tags": []
   },
   "source": [
    "## 1.\n",
    "Who are the most common wine reviewers in the dataset? Create a `Series` whose index is the `taster_twitter_handle` category from the dataset, and whose values count how many reviews each person wrote."
   ]
  },
  {
   "cell_type": "code",
   "execution_count": 2,
   "id": "2b9359e0",
   "metadata": {
    "execution": {
     "iopub.execute_input": "2021-12-26T16:06:16.120340Z",
     "iopub.status.busy": "2021-12-26T16:06:16.119715Z",
     "iopub.status.idle": "2021-12-26T16:06:16.146320Z",
     "shell.execute_reply": "2021-12-26T16:06:16.146745Z",
     "shell.execute_reply.started": "2021-12-26T11:22:27.484783Z"
    },
    "papermill": {
     "duration": 0.043301,
     "end_time": "2021-12-26T16:06:16.146901",
     "exception": false,
     "start_time": "2021-12-26T16:06:16.103600",
     "status": "completed"
    },
    "tags": []
   },
   "outputs": [
    {
     "data": {
      "application/javascript": [
       "parent.postMessage({\"jupyterEvent\": \"custom.exercise_interaction\", \"data\": {\"outcomeType\": 1, \"valueTowardsCompletion\": 0.16666666666666666, \"interactionType\": 1, \"questionType\": 1, \"questionId\": \"1_ReviewsWritten\", \"learnToolsVersion\": \"0.3.4\", \"failureMessage\": \"\", \"exceptionClass\": \"\", \"trace\": \"\"}}, \"*\")"
      ],
      "text/plain": [
       "<IPython.core.display.Javascript object>"
      ]
     },
     "metadata": {},
     "output_type": "display_data"
    },
    {
     "data": {
      "text/markdown": [
       "<span style=\"color:#33cc33\">Correct:</span> \n",
       "\n",
       "\n",
       "```python\n",
       "reviews_written = reviews.groupby('taster_twitter_handle').size()\n",
       "```\n",
       "or\n",
       "```python\n",
       "reviews_written = reviews.groupby('taster_twitter_handle').taster_twitter_handle.count()\n",
       "```\n"
      ],
      "text/plain": [
       "Correct: \n",
       "\n",
       "\n",
       "```python\n",
       "reviews_written = reviews.groupby('taster_twitter_handle').size()\n",
       "```\n",
       "or\n",
       "```python\n",
       "reviews_written = reviews.groupby('taster_twitter_handle').taster_twitter_handle.count()\n",
       "```"
      ]
     },
     "metadata": {},
     "output_type": "display_data"
    }
   ],
   "source": [
    "# Your code here\n",
    "reviews_written = reviews.groupby('taster_twitter_handle').taster_name.count()\n",
    "\n",
    "# Check your answer\n",
    "q1.check()"
   ]
  },
  {
   "cell_type": "code",
   "execution_count": 3,
   "id": "2a158456",
   "metadata": {
    "execution": {
     "iopub.execute_input": "2021-12-26T16:06:16.178899Z",
     "iopub.status.busy": "2021-12-26T16:06:16.178306Z",
     "iopub.status.idle": "2021-12-26T16:06:16.180471Z",
     "shell.execute_reply": "2021-12-26T16:06:16.181020Z"
    },
    "papermill": {
     "duration": 0.020239,
     "end_time": "2021-12-26T16:06:16.181180",
     "exception": false,
     "start_time": "2021-12-26T16:06:16.160941",
     "status": "completed"
    },
    "tags": []
   },
   "outputs": [],
   "source": [
    "#q1.hint()\n",
    "#q1.solution()"
   ]
  },
  {
   "cell_type": "markdown",
   "id": "d5223893",
   "metadata": {
    "papermill": {
     "duration": 0.013678,
     "end_time": "2021-12-26T16:06:16.208875",
     "exception": false,
     "start_time": "2021-12-26T16:06:16.195197",
     "status": "completed"
    },
    "tags": []
   },
   "source": [
    "## 2.\n",
    "What is the best wine I can buy for a given amount of money? Create a `Series` whose index is wine prices and whose values is the maximum number of points a wine costing that much was given in a review. Sort the values by price, ascending (so that `4.0` dollars is at the top and `3300.0` dollars is at the bottom)."
   ]
  },
  {
   "cell_type": "code",
   "execution_count": 4,
   "id": "98fc6708",
   "metadata": {
    "execution": {
     "iopub.execute_input": "2021-12-26T16:06:16.241906Z",
     "iopub.status.busy": "2021-12-26T16:06:16.241335Z",
     "iopub.status.idle": "2021-12-26T16:06:16.251056Z",
     "shell.execute_reply": "2021-12-26T16:06:16.250505Z",
     "shell.execute_reply.started": "2021-12-26T11:35:05.075240Z"
    },
    "papermill": {
     "duration": 0.028356,
     "end_time": "2021-12-26T16:06:16.251184",
     "exception": false,
     "start_time": "2021-12-26T16:06:16.222828",
     "status": "completed"
    },
    "tags": []
   },
   "outputs": [
    {
     "data": {
      "application/javascript": [
       "parent.postMessage({\"jupyterEvent\": \"custom.exercise_interaction\", \"data\": {\"outcomeType\": 1, \"valueTowardsCompletion\": 0.16666666666666666, \"interactionType\": 1, \"questionType\": 1, \"questionId\": \"2_BestRatingPerPrice\", \"learnToolsVersion\": \"0.3.4\", \"failureMessage\": \"\", \"exceptionClass\": \"\", \"trace\": \"\"}}, \"*\")"
      ],
      "text/plain": [
       "<IPython.core.display.Javascript object>"
      ]
     },
     "metadata": {},
     "output_type": "display_data"
    },
    {
     "data": {
      "text/markdown": [
       "<span style=\"color:#33cc33\">Correct</span>"
      ],
      "text/plain": [
       "Correct"
      ]
     },
     "metadata": {},
     "output_type": "display_data"
    }
   ],
   "source": [
    "best_rating_per_price = reviews.groupby('price')['points'].max().sort_index()\n",
    "\n",
    "# Check your answer\n",
    "q2.check()"
   ]
  },
  {
   "cell_type": "code",
   "execution_count": 5,
   "id": "4c0291c8",
   "metadata": {
    "execution": {
     "iopub.execute_input": "2021-12-26T16:06:16.285359Z",
     "iopub.status.busy": "2021-12-26T16:06:16.284753Z",
     "iopub.status.idle": "2021-12-26T16:06:16.292597Z",
     "shell.execute_reply": "2021-12-26T16:06:16.292151Z",
     "shell.execute_reply.started": "2021-12-26T11:33:40.515518Z"
    },
    "papermill": {
     "duration": 0.026814,
     "end_time": "2021-12-26T16:06:16.292725",
     "exception": false,
     "start_time": "2021-12-26T16:06:16.265911",
     "status": "completed"
    },
    "tags": []
   },
   "outputs": [
    {
     "data": {
      "application/javascript": [
       "parent.postMessage({\"jupyterEvent\": \"custom.exercise_interaction\", \"data\": {\"interactionType\": 2, \"questionType\": 1, \"questionId\": \"2_BestRatingPerPrice\", \"learnToolsVersion\": \"0.3.4\", \"valueTowardsCompletion\": 0.0, \"failureMessage\": \"\", \"exceptionClass\": \"\", \"trace\": \"\", \"outcomeType\": 4}}, \"*\")"
      ],
      "text/plain": [
       "<IPython.core.display.Javascript object>"
      ]
     },
     "metadata": {},
     "output_type": "display_data"
    },
    {
     "data": {
      "text/markdown": [
       "<span style=\"color:#3366cc\">Hint:</span> Use `max()` and `sort_index()`.  The relevant columns in the DataFrame are `price` and `points`."
      ],
      "text/plain": [
       "Hint: Use `max()` and `sort_index()`.  The relevant columns in the DataFrame are `price` and `points`."
      ]
     },
     "metadata": {},
     "output_type": "display_data"
    },
    {
     "data": {
      "application/javascript": [
       "parent.postMessage({\"jupyterEvent\": \"custom.exercise_interaction\", \"data\": {\"interactionType\": 3, \"questionType\": 1, \"questionId\": \"2_BestRatingPerPrice\", \"learnToolsVersion\": \"0.3.4\", \"valueTowardsCompletion\": 0.0, \"failureMessage\": \"\", \"exceptionClass\": \"\", \"trace\": \"\", \"outcomeType\": 4}}, \"*\")"
      ],
      "text/plain": [
       "<IPython.core.display.Javascript object>"
      ]
     },
     "metadata": {},
     "output_type": "display_data"
    },
    {
     "data": {
      "text/markdown": [
       "<span style=\"color:#33cc99\">Solution:</span> \n",
       "```python\n",
       "best_rating_per_price = reviews.groupby('price')['points'].max().sort_index()\n",
       "```"
      ],
      "text/plain": [
       "Solution: \n",
       "```python\n",
       "best_rating_per_price = reviews.groupby('price')['points'].max().sort_index()\n",
       "```"
      ]
     },
     "metadata": {},
     "output_type": "display_data"
    }
   ],
   "source": [
    "q2.hint()\n",
    "q2.solution()"
   ]
  },
  {
   "cell_type": "markdown",
   "id": "81d4d39f",
   "metadata": {
    "papermill": {
     "duration": 0.016068,
     "end_time": "2021-12-26T16:06:16.324860",
     "exception": false,
     "start_time": "2021-12-26T16:06:16.308792",
     "status": "completed"
    },
    "tags": []
   },
   "source": [
    "## 3.\n",
    "What are the minimum and maximum prices for each `variety` of wine? Create a `DataFrame` whose index is the `variety` category from the dataset and whose values are the `min` and `max` values thereof."
   ]
  },
  {
   "cell_type": "code",
   "execution_count": 6,
   "id": "2278c7c0",
   "metadata": {
    "execution": {
     "iopub.execute_input": "2021-12-26T16:06:16.366790Z",
     "iopub.status.busy": "2021-12-26T16:06:16.360489Z",
     "iopub.status.idle": "2021-12-26T16:06:16.382140Z",
     "shell.execute_reply": "2021-12-26T16:06:16.382627Z",
     "shell.execute_reply.started": "2021-12-26T11:39:38.820175Z"
    },
    "papermill": {
     "duration": 0.041639,
     "end_time": "2021-12-26T16:06:16.382798",
     "exception": false,
     "start_time": "2021-12-26T16:06:16.341159",
     "status": "completed"
    },
    "tags": []
   },
   "outputs": [
    {
     "data": {
      "application/javascript": [
       "parent.postMessage({\"jupyterEvent\": \"custom.exercise_interaction\", \"data\": {\"outcomeType\": 1, \"valueTowardsCompletion\": 0.16666666666666666, \"interactionType\": 1, \"questionType\": 1, \"questionId\": \"3_PriceExtremes\", \"learnToolsVersion\": \"0.3.4\", \"failureMessage\": \"\", \"exceptionClass\": \"\", \"trace\": \"\"}}, \"*\")"
      ],
      "text/plain": [
       "<IPython.core.display.Javascript object>"
      ]
     },
     "metadata": {},
     "output_type": "display_data"
    },
    {
     "data": {
      "text/markdown": [
       "<span style=\"color:#33cc33\">Correct</span>"
      ],
      "text/plain": [
       "Correct"
      ]
     },
     "metadata": {},
     "output_type": "display_data"
    }
   ],
   "source": [
    "\n",
    "price_extremes = reviews.groupby('variety').price.agg([min,max])\n",
    "\n",
    "# Check your answer\n",
    "q3.check()"
   ]
  },
  {
   "cell_type": "code",
   "execution_count": 7,
   "id": "4a47624e",
   "metadata": {
    "execution": {
     "iopub.execute_input": "2021-12-26T16:06:16.420953Z",
     "iopub.status.busy": "2021-12-26T16:06:16.420052Z",
     "iopub.status.idle": "2021-12-26T16:06:16.430682Z",
     "shell.execute_reply": "2021-12-26T16:06:16.430208Z",
     "shell.execute_reply.started": "2021-12-26T11:39:05.529149Z"
    },
    "papermill": {
     "duration": 0.031077,
     "end_time": "2021-12-26T16:06:16.430809",
     "exception": false,
     "start_time": "2021-12-26T16:06:16.399732",
     "status": "completed"
    },
    "tags": []
   },
   "outputs": [
    {
     "data": {
      "application/javascript": [
       "parent.postMessage({\"jupyterEvent\": \"custom.exercise_interaction\", \"data\": {\"interactionType\": 2, \"questionType\": 1, \"questionId\": \"3_PriceExtremes\", \"learnToolsVersion\": \"0.3.4\", \"valueTowardsCompletion\": 0.0, \"failureMessage\": \"\", \"exceptionClass\": \"\", \"trace\": \"\", \"outcomeType\": 4}}, \"*\")"
      ],
      "text/plain": [
       "<IPython.core.display.Javascript object>"
      ]
     },
     "metadata": {},
     "output_type": "display_data"
    },
    {
     "data": {
      "text/markdown": [
       "<span style=\"color:#3366cc\">Hint:</span> Use `agg()`."
      ],
      "text/plain": [
       "Hint: Use `agg()`."
      ]
     },
     "metadata": {},
     "output_type": "display_data"
    },
    {
     "data": {
      "application/javascript": [
       "parent.postMessage({\"jupyterEvent\": \"custom.exercise_interaction\", \"data\": {\"interactionType\": 3, \"questionType\": 1, \"questionId\": \"3_PriceExtremes\", \"learnToolsVersion\": \"0.3.4\", \"valueTowardsCompletion\": 0.0, \"failureMessage\": \"\", \"exceptionClass\": \"\", \"trace\": \"\", \"outcomeType\": 4}}, \"*\")"
      ],
      "text/plain": [
       "<IPython.core.display.Javascript object>"
      ]
     },
     "metadata": {},
     "output_type": "display_data"
    },
    {
     "data": {
      "text/markdown": [
       "<span style=\"color:#33cc99\">Solution:</span> \n",
       "```python\n",
       "price_extremes = reviews.groupby('variety').price.agg([min, max])\n",
       "```"
      ],
      "text/plain": [
       "Solution: \n",
       "```python\n",
       "price_extremes = reviews.groupby('variety').price.agg([min, max])\n",
       "```"
      ]
     },
     "metadata": {},
     "output_type": "display_data"
    }
   ],
   "source": [
    "q3.hint()\n",
    "q3.solution()"
   ]
  },
  {
   "cell_type": "markdown",
   "id": "dc145362",
   "metadata": {
    "papermill": {
     "duration": 0.018266,
     "end_time": "2021-12-26T16:06:16.467644",
     "exception": false,
     "start_time": "2021-12-26T16:06:16.449378",
     "status": "completed"
    },
    "tags": []
   },
   "source": [
    "## 4.\n",
    "What are the most expensive wine varieties? Create a variable `sorted_varieties` containing a copy of the dataframe from the previous question where varieties are sorted in descending order based on minimum price, then on maximum price (to break ties)."
   ]
  },
  {
   "cell_type": "code",
   "execution_count": 8,
   "id": "8e862af7",
   "metadata": {
    "execution": {
     "iopub.execute_input": "2021-12-26T16:06:16.507961Z",
     "iopub.status.busy": "2021-12-26T16:06:16.507354Z",
     "iopub.status.idle": "2021-12-26T16:06:16.515858Z",
     "shell.execute_reply": "2021-12-26T16:06:16.516329Z",
     "shell.execute_reply.started": "2021-12-26T11:42:00.434328Z"
    },
    "papermill": {
     "duration": 0.030198,
     "end_time": "2021-12-26T16:06:16.516492",
     "exception": false,
     "start_time": "2021-12-26T16:06:16.486294",
     "status": "completed"
    },
    "tags": []
   },
   "outputs": [
    {
     "data": {
      "application/javascript": [
       "parent.postMessage({\"jupyterEvent\": \"custom.exercise_interaction\", \"data\": {\"outcomeType\": 1, \"valueTowardsCompletion\": 0.16666666666666666, \"interactionType\": 1, \"questionType\": 1, \"questionId\": \"4_SortedVarieties\", \"learnToolsVersion\": \"0.3.4\", \"failureMessage\": \"\", \"exceptionClass\": \"\", \"trace\": \"\"}}, \"*\")"
      ],
      "text/plain": [
       "<IPython.core.display.Javascript object>"
      ]
     },
     "metadata": {},
     "output_type": "display_data"
    },
    {
     "data": {
      "text/markdown": [
       "<span style=\"color:#33cc33\">Correct</span>"
      ],
      "text/plain": [
       "Correct"
      ]
     },
     "metadata": {},
     "output_type": "display_data"
    }
   ],
   "source": [
    "sorted_varieties = price_extremes.sort_values(by=['min','max'],ascending=False)\n",
    "\n",
    "# Check your answer\n",
    "q4.check()"
   ]
  },
  {
   "cell_type": "code",
   "execution_count": 9,
   "id": "62fd8739",
   "metadata": {
    "execution": {
     "iopub.execute_input": "2021-12-26T16:06:16.558760Z",
     "iopub.status.busy": "2021-12-26T16:06:16.558134Z",
     "iopub.status.idle": "2021-12-26T16:06:16.565675Z",
     "shell.execute_reply": "2021-12-26T16:06:16.566141Z",
     "shell.execute_reply.started": "2021-12-26T11:41:24.174764Z"
    },
    "papermill": {
     "duration": 0.03037,
     "end_time": "2021-12-26T16:06:16.566309",
     "exception": false,
     "start_time": "2021-12-26T16:06:16.535939",
     "status": "completed"
    },
    "tags": []
   },
   "outputs": [
    {
     "data": {
      "application/javascript": [
       "parent.postMessage({\"jupyterEvent\": \"custom.exercise_interaction\", \"data\": {\"interactionType\": 2, \"questionType\": 1, \"questionId\": \"4_SortedVarieties\", \"learnToolsVersion\": \"0.3.4\", \"valueTowardsCompletion\": 0.0, \"failureMessage\": \"\", \"exceptionClass\": \"\", \"trace\": \"\", \"outcomeType\": 4}}, \"*\")"
      ],
      "text/plain": [
       "<IPython.core.display.Javascript object>"
      ]
     },
     "metadata": {},
     "output_type": "display_data"
    },
    {
     "data": {
      "text/markdown": [
       "<span style=\"color:#3366cc\">Hint:</span> Use `sort_values()`, and provide a list of names to sort by."
      ],
      "text/plain": [
       "Hint: Use `sort_values()`, and provide a list of names to sort by."
      ]
     },
     "metadata": {},
     "output_type": "display_data"
    },
    {
     "data": {
      "application/javascript": [
       "parent.postMessage({\"jupyterEvent\": \"custom.exercise_interaction\", \"data\": {\"interactionType\": 3, \"questionType\": 1, \"questionId\": \"4_SortedVarieties\", \"learnToolsVersion\": \"0.3.4\", \"valueTowardsCompletion\": 0.0, \"failureMessage\": \"\", \"exceptionClass\": \"\", \"trace\": \"\", \"outcomeType\": 4}}, \"*\")"
      ],
      "text/plain": [
       "<IPython.core.display.Javascript object>"
      ]
     },
     "metadata": {},
     "output_type": "display_data"
    },
    {
     "data": {
      "text/markdown": [
       "<span style=\"color:#33cc99\">Solution:</span> \n",
       "```python\n",
       "sorted_varieties = price_extremes.sort_values(by=['min', 'max'], ascending=False)\n",
       "```"
      ],
      "text/plain": [
       "Solution: \n",
       "```python\n",
       "sorted_varieties = price_extremes.sort_values(by=['min', 'max'], ascending=False)\n",
       "```"
      ]
     },
     "metadata": {},
     "output_type": "display_data"
    }
   ],
   "source": [
    "q4.hint()\n",
    "q4.solution()"
   ]
  },
  {
   "cell_type": "markdown",
   "id": "ccc6cd64",
   "metadata": {
    "papermill": {
     "duration": 0.021316,
     "end_time": "2021-12-26T16:06:16.608390",
     "exception": false,
     "start_time": "2021-12-26T16:06:16.587074",
     "status": "completed"
    },
    "tags": []
   },
   "source": [
    "## 5.\n",
    "Create a `Series` whose index is reviewers and whose values is the average review score given out by that reviewer. Hint: you will need the `taster_name` and `points` columns."
   ]
  },
  {
   "cell_type": "code",
   "execution_count": 10,
   "id": "5b90d702",
   "metadata": {
    "execution": {
     "iopub.execute_input": "2021-12-26T16:06:16.652904Z",
     "iopub.status.busy": "2021-12-26T16:06:16.652323Z",
     "iopub.status.idle": "2021-12-26T16:06:16.669500Z",
     "shell.execute_reply": "2021-12-26T16:06:16.670028Z",
     "shell.execute_reply.started": "2021-12-26T11:45:13.714272Z"
    },
    "papermill": {
     "duration": 0.040818,
     "end_time": "2021-12-26T16:06:16.670189",
     "exception": false,
     "start_time": "2021-12-26T16:06:16.629371",
     "status": "completed"
    },
    "tags": []
   },
   "outputs": [
    {
     "data": {
      "application/javascript": [
       "parent.postMessage({\"jupyterEvent\": \"custom.exercise_interaction\", \"data\": {\"outcomeType\": 1, \"valueTowardsCompletion\": 0.16666666666666666, \"interactionType\": 1, \"questionType\": 1, \"questionId\": \"5_ReviewerMeanRatings\", \"learnToolsVersion\": \"0.3.4\", \"failureMessage\": \"\", \"exceptionClass\": \"\", \"trace\": \"\"}}, \"*\")"
      ],
      "text/plain": [
       "<IPython.core.display.Javascript object>"
      ]
     },
     "metadata": {},
     "output_type": "display_data"
    },
    {
     "data": {
      "text/markdown": [
       "<span style=\"color:#33cc33\">Correct</span>"
      ],
      "text/plain": [
       "Correct"
      ]
     },
     "metadata": {},
     "output_type": "display_data"
    }
   ],
   "source": [
    "reviewer_mean_ratings = reviews.groupby('taster_name').points.mean()\n",
    "\n",
    "# Check your answer\n",
    "q5.check()"
   ]
  },
  {
   "cell_type": "code",
   "execution_count": 11,
   "id": "ce551dc5",
   "metadata": {
    "execution": {
     "iopub.execute_input": "2021-12-26T16:06:16.719414Z",
     "iopub.status.busy": "2021-12-26T16:06:16.718509Z",
     "iopub.status.idle": "2021-12-26T16:06:16.720585Z",
     "shell.execute_reply": "2021-12-26T16:06:16.721194Z"
    },
    "papermill": {
     "duration": 0.029007,
     "end_time": "2021-12-26T16:06:16.721367",
     "exception": false,
     "start_time": "2021-12-26T16:06:16.692360",
     "status": "completed"
    },
    "tags": []
   },
   "outputs": [],
   "source": [
    "#q5.hint()\n",
    "#q5.solution()"
   ]
  },
  {
   "cell_type": "markdown",
   "id": "f236f670",
   "metadata": {
    "papermill": {
     "duration": 0.021331,
     "end_time": "2021-12-26T16:06:16.764706",
     "exception": false,
     "start_time": "2021-12-26T16:06:16.743375",
     "status": "completed"
    },
    "tags": []
   },
   "source": [
    "Are there significant differences in the average scores assigned by the various reviewers? Run the cell below to use the `describe()` method to see a summary of the range of values."
   ]
  },
  {
   "cell_type": "code",
   "execution_count": 12,
   "id": "2959b09d",
   "metadata": {
    "execution": {
     "iopub.execute_input": "2021-12-26T16:06:16.811769Z",
     "iopub.status.busy": "2021-12-26T16:06:16.810871Z",
     "iopub.status.idle": "2021-12-26T16:06:16.820673Z",
     "shell.execute_reply": "2021-12-26T16:06:16.820198Z",
     "shell.execute_reply.started": "2021-12-26T11:45:30.165285Z"
    },
    "papermill": {
     "duration": 0.034328,
     "end_time": "2021-12-26T16:06:16.820809",
     "exception": false,
     "start_time": "2021-12-26T16:06:16.786481",
     "status": "completed"
    },
    "tags": []
   },
   "outputs": [
    {
     "data": {
      "text/plain": [
       "count    19.000000\n",
       "mean     88.233026\n",
       "std       1.243610\n",
       "min      85.855422\n",
       "25%      87.323501\n",
       "50%      88.536235\n",
       "75%      88.975256\n",
       "max      90.562551\n",
       "Name: points, dtype: float64"
      ]
     },
     "execution_count": 12,
     "metadata": {},
     "output_type": "execute_result"
    }
   ],
   "source": [
    "reviewer_mean_ratings.describe()"
   ]
  },
  {
   "cell_type": "markdown",
   "id": "e04594e5",
   "metadata": {
    "papermill": {
     "duration": 0.021692,
     "end_time": "2021-12-26T16:06:16.864881",
     "exception": false,
     "start_time": "2021-12-26T16:06:16.843189",
     "status": "completed"
    },
    "tags": []
   },
   "source": [
    "## 6.\n",
    "What combination of countries and varieties are most common? Create a `Series` whose index is a `MultiIndex`of `{country, variety}` pairs. For example, a pinot noir produced in the US should map to `{\"US\", \"Pinot Noir\"}`. Sort the values in the `Series` in descending order based on wine count."
   ]
  },
  {
   "cell_type": "code",
   "execution_count": 13,
   "id": "c7f081c8",
   "metadata": {
    "execution": {
     "iopub.execute_input": "2021-12-26T16:06:16.912678Z",
     "iopub.status.busy": "2021-12-26T16:06:16.911767Z",
     "iopub.status.idle": "2021-12-26T16:06:16.943769Z",
     "shell.execute_reply": "2021-12-26T16:06:16.944307Z",
     "shell.execute_reply.started": "2021-12-26T16:04:06.961969Z"
    },
    "papermill": {
     "duration": 0.057651,
     "end_time": "2021-12-26T16:06:16.944466",
     "exception": false,
     "start_time": "2021-12-26T16:06:16.886815",
     "status": "completed"
    },
    "tags": []
   },
   "outputs": [
    {
     "data": {
      "application/javascript": [
       "parent.postMessage({\"jupyterEvent\": \"custom.exercise_interaction\", \"data\": {\"outcomeType\": 1, \"valueTowardsCompletion\": 0.16666666666666666, \"interactionType\": 1, \"questionType\": 1, \"questionId\": \"6_GroupbyCountryVariety\", \"learnToolsVersion\": \"0.3.4\", \"failureMessage\": \"\", \"exceptionClass\": \"\", \"trace\": \"\"}}, \"*\")"
      ],
      "text/plain": [
       "<IPython.core.display.Javascript object>"
      ]
     },
     "metadata": {},
     "output_type": "display_data"
    },
    {
     "data": {
      "text/markdown": [
       "<span style=\"color:#33cc33\">Correct</span>"
      ],
      "text/plain": [
       "Correct"
      ]
     },
     "metadata": {},
     "output_type": "display_data"
    }
   ],
   "source": [
    "country_variety_counts = reviews.groupby(['country','variety']).size().sort_values(ascending=False)\n",
    "\n",
    "# Check your answer\n",
    "q6.check()"
   ]
  },
  {
   "cell_type": "code",
   "execution_count": 14,
   "id": "0f2f0b33",
   "metadata": {
    "execution": {
     "iopub.execute_input": "2021-12-26T16:06:16.992779Z",
     "iopub.status.busy": "2021-12-26T16:06:16.991918Z",
     "iopub.status.idle": "2021-12-26T16:06:16.999483Z",
     "shell.execute_reply": "2021-12-26T16:06:17.000007Z",
     "shell.execute_reply.started": "2021-12-26T16:02:51.905395Z"
    },
    "papermill": {
     "duration": 0.033303,
     "end_time": "2021-12-26T16:06:17.000180",
     "exception": false,
     "start_time": "2021-12-26T16:06:16.966877",
     "status": "completed"
    },
    "tags": []
   },
   "outputs": [
    {
     "data": {
      "application/javascript": [
       "parent.postMessage({\"jupyterEvent\": \"custom.exercise_interaction\", \"data\": {\"interactionType\": 2, \"questionType\": 1, \"questionId\": \"6_GroupbyCountryVariety\", \"learnToolsVersion\": \"0.3.4\", \"valueTowardsCompletion\": 0.0, \"failureMessage\": \"\", \"exceptionClass\": \"\", \"trace\": \"\", \"outcomeType\": 4}}, \"*\")"
      ],
      "text/plain": [
       "<IPython.core.display.Javascript object>"
      ]
     },
     "metadata": {},
     "output_type": "display_data"
    },
    {
     "data": {
      "text/markdown": [
       "<span style=\"color:#3366cc\">Hint:</span> Use `groupby()`, and provide a list of columns to group by.  You may also find `size()` and `sort_values()` to be useful!"
      ],
      "text/plain": [
       "Hint: Use `groupby()`, and provide a list of columns to group by.  You may also find `size()` and `sort_values()` to be useful!"
      ]
     },
     "metadata": {},
     "output_type": "display_data"
    },
    {
     "data": {
      "application/javascript": [
       "parent.postMessage({\"jupyterEvent\": \"custom.exercise_interaction\", \"data\": {\"interactionType\": 3, \"questionType\": 1, \"questionId\": \"6_GroupbyCountryVariety\", \"learnToolsVersion\": \"0.3.4\", \"valueTowardsCompletion\": 0.0, \"failureMessage\": \"\", \"exceptionClass\": \"\", \"trace\": \"\", \"outcomeType\": 4}}, \"*\")"
      ],
      "text/plain": [
       "<IPython.core.display.Javascript object>"
      ]
     },
     "metadata": {},
     "output_type": "display_data"
    },
    {
     "data": {
      "text/markdown": [
       "<span style=\"color:#33cc99\">Solution:</span> \n",
       "```python\n",
       "country_variety_counts = reviews.groupby(['country', 'variety']).size().sort_values(ascending=False)\n",
       "```"
      ],
      "text/plain": [
       "Solution: \n",
       "```python\n",
       "country_variety_counts = reviews.groupby(['country', 'variety']).size().sort_values(ascending=False)\n",
       "```"
      ]
     },
     "metadata": {},
     "output_type": "display_data"
    }
   ],
   "source": [
    "q6.hint()\n",
    "q6.solution()"
   ]
  },
  {
   "cell_type": "markdown",
   "id": "5be39795",
   "metadata": {
    "papermill": {
     "duration": 0.023573,
     "end_time": "2021-12-26T16:06:17.047802",
     "exception": false,
     "start_time": "2021-12-26T16:06:17.024229",
     "status": "completed"
    },
    "tags": []
   },
   "source": [
    "# Keep going\n",
    "\n",
    "Move on to the [**data types and missing data**](https://www.kaggle.com/residentmario/data-types-and-missing-values)."
   ]
  },
  {
   "cell_type": "markdown",
   "id": "0cdd7900",
   "metadata": {
    "papermill": {
     "duration": 0.023445,
     "end_time": "2021-12-26T16:06:17.095121",
     "exception": false,
     "start_time": "2021-12-26T16:06:17.071676",
     "status": "completed"
    },
    "tags": []
   },
   "source": [
    "---\n",
    "\n",
    "\n",
    "\n",
    "\n",
    "*Have questions or comments? Visit the [course discussion forum](https://www.kaggle.com/learn/pandas/discussion) to chat with other learners.*"
   ]
  }
 ],
 "metadata": {
  "kernelspec": {
   "display_name": "Python 3",
   "language": "python",
   "name": "python3"
  },
  "language_info": {
   "codemirror_mode": {
    "name": "ipython",
    "version": 3
   },
   "file_extension": ".py",
   "mimetype": "text/x-python",
   "name": "python",
   "nbconvert_exporter": "python",
   "pygments_lexer": "ipython3",
   "version": "3.7.12"
  },
  "papermill": {
   "default_parameters": {},
   "duration": 13.560762,
   "end_time": "2021-12-26T16:06:17.729518",
   "environment_variables": {},
   "exception": null,
   "input_path": "__notebook__.ipynb",
   "output_path": "__notebook__.ipynb",
   "parameters": {},
   "start_time": "2021-12-26T16:06:04.168756",
   "version": "2.3.3"
  }
 },
 "nbformat": 4,
 "nbformat_minor": 5
}
