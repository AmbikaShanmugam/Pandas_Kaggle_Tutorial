{
 "cells": [
  {
   "cell_type": "markdown",
   "id": "cedc120d",
   "metadata": {
    "papermill": {
     "duration": 0.014673,
     "end_time": "2021-12-26T16:31:56.095854",
     "exception": false,
     "start_time": "2021-12-26T16:31:56.081181",
     "status": "completed"
    },
    "tags": []
   },
   "source": [
    "**This notebook is an exercise in the [Pandas](https://www.kaggle.com/learn/pandas) course.  You can reference the tutorial at [this link](https://www.kaggle.com/residentmario/data-types-and-missing-values).**\n",
    "\n",
    "---\n"
   ]
  },
  {
   "cell_type": "markdown",
   "id": "07be13b3",
   "metadata": {
    "papermill": {
     "duration": 0.013465,
     "end_time": "2021-12-26T16:31:56.123135",
     "exception": false,
     "start_time": "2021-12-26T16:31:56.109670",
     "status": "completed"
    },
    "tags": []
   },
   "source": [
    "# Introduction\n",
    "\n",
    "Run the following cell to load your data and some utility functions."
   ]
  },
  {
   "cell_type": "code",
   "execution_count": 1,
   "id": "dca11f92",
   "metadata": {
    "execution": {
     "iopub.execute_input": "2021-12-26T16:31:56.157787Z",
     "iopub.status.busy": "2021-12-26T16:31:56.157042Z",
     "iopub.status.idle": "2021-12-26T16:31:59.181878Z",
     "shell.execute_reply": "2021-12-26T16:31:59.182434Z",
     "shell.execute_reply.started": "2021-12-26T16:17:53.930651Z"
    },
    "papermill": {
     "duration": 3.046685,
     "end_time": "2021-12-26T16:31:59.182763",
     "exception": false,
     "start_time": "2021-12-26T16:31:56.136078",
     "status": "completed"
    },
    "tags": []
   },
   "outputs": [
    {
     "name": "stdout",
     "output_type": "stream",
     "text": [
      "Setup complete.\n"
     ]
    }
   ],
   "source": [
    "import pandas as pd\n",
    "\n",
    "reviews = pd.read_csv(\"../input/wine-reviews/winemag-data-130k-v2.csv\", index_col=0)\n",
    "\n",
    "from learntools.core import binder; binder.bind(globals())\n",
    "from learntools.pandas.data_types_and_missing_data import *\n",
    "print(\"Setup complete.\")"
   ]
  },
  {
   "cell_type": "markdown",
   "id": "e9b8ec9c",
   "metadata": {
    "papermill": {
     "duration": 0.012677,
     "end_time": "2021-12-26T16:31:59.208875",
     "exception": false,
     "start_time": "2021-12-26T16:31:59.196198",
     "status": "completed"
    },
    "tags": []
   },
   "source": [
    "# Exercises"
   ]
  },
  {
   "cell_type": "markdown",
   "id": "1ae2b78c",
   "metadata": {
    "papermill": {
     "duration": 0.012793,
     "end_time": "2021-12-26T16:31:59.234798",
     "exception": false,
     "start_time": "2021-12-26T16:31:59.222005",
     "status": "completed"
    },
    "tags": []
   },
   "source": [
    "## 1. \n",
    "What is the data type of the `points` column in the dataset?"
   ]
  },
  {
   "cell_type": "code",
   "execution_count": 2,
   "id": "a5fc1853",
   "metadata": {
    "execution": {
     "iopub.execute_input": "2021-12-26T16:31:59.270289Z",
     "iopub.status.busy": "2021-12-26T16:31:59.269400Z",
     "iopub.status.idle": "2021-12-26T16:31:59.275810Z",
     "shell.execute_reply": "2021-12-26T16:31:59.275253Z",
     "shell.execute_reply.started": "2021-12-26T16:18:12.012268Z"
    },
    "papermill": {
     "duration": 0.027901,
     "end_time": "2021-12-26T16:31:59.275955",
     "exception": false,
     "start_time": "2021-12-26T16:31:59.248054",
     "status": "completed"
    },
    "tags": []
   },
   "outputs": [
    {
     "data": {
      "application/javascript": [
       "parent.postMessage({\"jupyterEvent\": \"custom.exercise_interaction\", \"data\": {\"outcomeType\": 1, \"valueTowardsCompletion\": 0.25, \"interactionType\": 1, \"questionType\": 1, \"questionId\": \"1_PointsDtype\", \"learnToolsVersion\": \"0.3.4\", \"failureMessage\": \"\", \"exceptionClass\": \"\", \"trace\": \"\"}}, \"*\")"
      ],
      "text/plain": [
       "<IPython.core.display.Javascript object>"
      ]
     },
     "metadata": {},
     "output_type": "display_data"
    },
    {
     "data": {
      "text/markdown": [
       "<span style=\"color:#33cc33\">Correct</span>"
      ],
      "text/plain": [
       "Correct"
      ]
     },
     "metadata": {},
     "output_type": "display_data"
    }
   ],
   "source": [
    "# Your code here\n",
    "dtype = reviews.points.dtype\n",
    "\n",
    "# Check your answer\n",
    "q1.check()"
   ]
  },
  {
   "cell_type": "code",
   "execution_count": 3,
   "id": "c4f8a57c",
   "metadata": {
    "execution": {
     "iopub.execute_input": "2021-12-26T16:31:59.309152Z",
     "iopub.status.busy": "2021-12-26T16:31:59.308457Z",
     "iopub.status.idle": "2021-12-26T16:31:59.311648Z",
     "shell.execute_reply": "2021-12-26T16:31:59.311101Z"
    },
    "papermill": {
     "duration": 0.021004,
     "end_time": "2021-12-26T16:31:59.311795",
     "exception": false,
     "start_time": "2021-12-26T16:31:59.290791",
     "status": "completed"
    },
    "tags": []
   },
   "outputs": [],
   "source": [
    "#q1.hint()\n",
    "#q1.solution()"
   ]
  },
  {
   "cell_type": "markdown",
   "id": "c2b33ee5",
   "metadata": {
    "papermill": {
     "duration": 0.014031,
     "end_time": "2021-12-26T16:31:59.340417",
     "exception": false,
     "start_time": "2021-12-26T16:31:59.326386",
     "status": "completed"
    },
    "tags": []
   },
   "source": [
    "## 2. \n",
    "Create a Series from entries in the `points` column, but convert the entries to strings. Hint: strings are `str` in native Python."
   ]
  },
  {
   "cell_type": "code",
   "execution_count": 4,
   "id": "3e68914a",
   "metadata": {
    "execution": {
     "iopub.execute_input": "2021-12-26T16:31:59.529422Z",
     "iopub.status.busy": "2021-12-26T16:31:59.372763Z",
     "iopub.status.idle": "2021-12-26T16:31:59.537494Z",
     "shell.execute_reply": "2021-12-26T16:31:59.536805Z",
     "shell.execute_reply.started": "2021-12-26T16:19:22.375746Z"
    },
    "papermill": {
     "duration": 0.183322,
     "end_time": "2021-12-26T16:31:59.537663",
     "exception": false,
     "start_time": "2021-12-26T16:31:59.354341",
     "status": "completed"
    },
    "tags": []
   },
   "outputs": [
    {
     "data": {
      "application/javascript": [
       "parent.postMessage({\"jupyterEvent\": \"custom.exercise_interaction\", \"data\": {\"outcomeType\": 1, \"valueTowardsCompletion\": 0.25, \"interactionType\": 1, \"questionType\": 1, \"questionId\": \"2_StrPoints\", \"learnToolsVersion\": \"0.3.4\", \"failureMessage\": \"\", \"exceptionClass\": \"\", \"trace\": \"\"}}, \"*\")"
      ],
      "text/plain": [
       "<IPython.core.display.Javascript object>"
      ]
     },
     "metadata": {},
     "output_type": "display_data"
    },
    {
     "data": {
      "text/markdown": [
       "<span style=\"color:#33cc33\">Correct</span>"
      ],
      "text/plain": [
       "Correct"
      ]
     },
     "metadata": {},
     "output_type": "display_data"
    }
   ],
   "source": [
    "point_strings = reviews.points.astype('str')\n",
    "\n",
    "# Check your answer\n",
    "q2.check()"
   ]
  },
  {
   "cell_type": "code",
   "execution_count": 5,
   "id": "ebe301c5",
   "metadata": {
    "execution": {
     "iopub.execute_input": "2021-12-26T16:31:59.573818Z",
     "iopub.status.busy": "2021-12-26T16:31:59.572790Z",
     "iopub.status.idle": "2021-12-26T16:31:59.578782Z",
     "shell.execute_reply": "2021-12-26T16:31:59.578211Z",
     "shell.execute_reply.started": "2021-12-26T16:19:02.555504Z"
    },
    "papermill": {
     "duration": 0.026063,
     "end_time": "2021-12-26T16:31:59.578924",
     "exception": false,
     "start_time": "2021-12-26T16:31:59.552861",
     "status": "completed"
    },
    "tags": []
   },
   "outputs": [
    {
     "data": {
      "application/javascript": [
       "parent.postMessage({\"jupyterEvent\": \"custom.exercise_interaction\", \"data\": {\"interactionType\": 2, \"questionType\": 1, \"questionId\": \"2_StrPoints\", \"learnToolsVersion\": \"0.3.4\", \"valueTowardsCompletion\": 0.0, \"failureMessage\": \"\", \"exceptionClass\": \"\", \"trace\": \"\", \"outcomeType\": 4}}, \"*\")"
      ],
      "text/plain": [
       "<IPython.core.display.Javascript object>"
      ]
     },
     "metadata": {},
     "output_type": "display_data"
    },
    {
     "data": {
      "text/markdown": [
       "<span style=\"color:#3366cc\">Hint:</span> Convert a column of one type to another by using the `astype` function."
      ],
      "text/plain": [
       "Hint: Convert a column of one type to another by using the `astype` function."
      ]
     },
     "metadata": {},
     "output_type": "display_data"
    }
   ],
   "source": [
    "q2.hint()\n",
    "#q2.solution()"
   ]
  },
  {
   "cell_type": "markdown",
   "id": "3e77a90f",
   "metadata": {
    "papermill": {
     "duration": 0.015436,
     "end_time": "2021-12-26T16:31:59.610375",
     "exception": false,
     "start_time": "2021-12-26T16:31:59.594939",
     "status": "completed"
    },
    "tags": []
   },
   "source": [
    "## 3.\n",
    "Sometimes the price column is null. How many reviews in the dataset are missing a price?"
   ]
  },
  {
   "cell_type": "code",
   "execution_count": 6,
   "id": "731eff61",
   "metadata": {
    "execution": {
     "iopub.execute_input": "2021-12-26T16:31:59.648910Z",
     "iopub.status.busy": "2021-12-26T16:31:59.648241Z",
     "iopub.status.idle": "2021-12-26T16:31:59.654349Z",
     "shell.execute_reply": "2021-12-26T16:31:59.653692Z",
     "shell.execute_reply.started": "2021-12-26T16:22:29.991152Z"
    },
    "papermill": {
     "duration": 0.027963,
     "end_time": "2021-12-26T16:31:59.654489",
     "exception": false,
     "start_time": "2021-12-26T16:31:59.626526",
     "status": "completed"
    },
    "tags": []
   },
   "outputs": [
    {
     "data": {
      "application/javascript": [
       "parent.postMessage({\"jupyterEvent\": \"custom.exercise_interaction\", \"data\": {\"outcomeType\": 1, \"valueTowardsCompletion\": 0.25, \"interactionType\": 1, \"questionType\": 1, \"questionId\": \"3_CountMissingPrices\", \"learnToolsVersion\": \"0.3.4\", \"failureMessage\": \"\", \"exceptionClass\": \"\", \"trace\": \"\"}}, \"*\")"
      ],
      "text/plain": [
       "<IPython.core.display.Javascript object>"
      ]
     },
     "metadata": {},
     "output_type": "display_data"
    },
    {
     "data": {
      "text/markdown": [
       "<span style=\"color:#33cc33\">Correct</span>"
      ],
      "text/plain": [
       "Correct"
      ]
     },
     "metadata": {},
     "output_type": "display_data"
    }
   ],
   "source": [
    "n_missing_prices = pd.isnull(reviews.price).sum()\n",
    "\n",
    "# Check your answer\n",
    "q3.check()"
   ]
  },
  {
   "cell_type": "code",
   "execution_count": 7,
   "id": "6d5b8f0c",
   "metadata": {
    "execution": {
     "iopub.execute_input": "2021-12-26T16:31:59.695291Z",
     "iopub.status.busy": "2021-12-26T16:31:59.694194Z",
     "iopub.status.idle": "2021-12-26T16:31:59.702997Z",
     "shell.execute_reply": "2021-12-26T16:31:59.702377Z",
     "shell.execute_reply.started": "2021-12-26T16:21:12.507216Z"
    },
    "papermill": {
     "duration": 0.031536,
     "end_time": "2021-12-26T16:31:59.703143",
     "exception": false,
     "start_time": "2021-12-26T16:31:59.671607",
     "status": "completed"
    },
    "tags": []
   },
   "outputs": [
    {
     "data": {
      "application/javascript": [
       "parent.postMessage({\"jupyterEvent\": \"custom.exercise_interaction\", \"data\": {\"interactionType\": 2, \"questionType\": 1, \"questionId\": \"3_CountMissingPrices\", \"learnToolsVersion\": \"0.3.4\", \"valueTowardsCompletion\": 0.0, \"failureMessage\": \"\", \"exceptionClass\": \"\", \"trace\": \"\", \"outcomeType\": 4}}, \"*\")"
      ],
      "text/plain": [
       "<IPython.core.display.Javascript object>"
      ]
     },
     "metadata": {},
     "output_type": "display_data"
    },
    {
     "data": {
      "text/markdown": [
       "<span style=\"color:#3366cc\">Hint:</span> Use `pd.isnull()`."
      ],
      "text/plain": [
       "Hint: Use `pd.isnull()`."
      ]
     },
     "metadata": {},
     "output_type": "display_data"
    },
    {
     "data": {
      "application/javascript": [
       "parent.postMessage({\"jupyterEvent\": \"custom.exercise_interaction\", \"data\": {\"interactionType\": 3, \"questionType\": 1, \"questionId\": \"3_CountMissingPrices\", \"learnToolsVersion\": \"0.3.4\", \"valueTowardsCompletion\": 0.0, \"failureMessage\": \"\", \"exceptionClass\": \"\", \"trace\": \"\", \"outcomeType\": 4}}, \"*\")"
      ],
      "text/plain": [
       "<IPython.core.display.Javascript object>"
      ]
     },
     "metadata": {},
     "output_type": "display_data"
    },
    {
     "data": {
      "text/markdown": [
       "<span style=\"color:#33cc99\">Solution:</span> \n",
       "```python\n",
       "missing_price_reviews = reviews[reviews.price.isnull()]\n",
       "n_missing_prices = len(missing_price_reviews)\n",
       "# Cute alternative solution: if we sum a boolean series, True is treated as 1 and False as 0\n",
       "n_missing_prices = reviews.price.isnull().sum()\n",
       "# or equivalently:\n",
       "n_missing_prices = pd.isnull(reviews.price).sum()\n",
       "\n",
       "```"
      ],
      "text/plain": [
       "Solution: \n",
       "```python\n",
       "missing_price_reviews = reviews[reviews.price.isnull()]\n",
       "n_missing_prices = len(missing_price_reviews)\n",
       "# Cute alternative solution: if we sum a boolean series, True is treated as 1 and False as 0\n",
       "n_missing_prices = reviews.price.isnull().sum()\n",
       "# or equivalently:\n",
       "n_missing_prices = pd.isnull(reviews.price).sum()\n",
       "\n",
       "```"
      ]
     },
     "metadata": {},
     "output_type": "display_data"
    }
   ],
   "source": [
    "q3.hint()\n",
    "q3.solution()"
   ]
  },
  {
   "cell_type": "markdown",
   "id": "51beedd2",
   "metadata": {
    "papermill": {
     "duration": 0.018736,
     "end_time": "2021-12-26T16:31:59.740615",
     "exception": false,
     "start_time": "2021-12-26T16:31:59.721879",
     "status": "completed"
    },
    "tags": []
   },
   "source": [
    "## 4.\n",
    "What are the most common wine-producing regions? Create a Series counting the number of times each value occurs in the `region_1` field. This field is often missing data, so replace missing values with `Unknown`. Sort in descending order.  Your output should look something like this:\n",
    "\n",
    "```\n",
    "Unknown                    21247\n",
    "Napa Valley                 4480\n",
    "                           ...  \n",
    "Bardolino Superiore            1\n",
    "Primitivo del Tarantino        1\n",
    "Name: region_1, Length: 1230, dtype: int64\n",
    "```"
   ]
  },
  {
   "cell_type": "code",
   "execution_count": 8,
   "id": "57cd31b3",
   "metadata": {
    "execution": {
     "iopub.execute_input": "2021-12-26T16:31:59.798544Z",
     "iopub.status.busy": "2021-12-26T16:31:59.797880Z",
     "iopub.status.idle": "2021-12-26T16:31:59.858738Z",
     "shell.execute_reply": "2021-12-26T16:31:59.858135Z",
     "shell.execute_reply.started": "2021-12-26T16:31:04.596453Z"
    },
    "papermill": {
     "duration": 0.097701,
     "end_time": "2021-12-26T16:31:59.858882",
     "exception": false,
     "start_time": "2021-12-26T16:31:59.761181",
     "status": "completed"
    },
    "tags": []
   },
   "outputs": [
    {
     "data": {
      "application/javascript": [
       "parent.postMessage({\"jupyterEvent\": \"custom.exercise_interaction\", \"data\": {\"outcomeType\": 1, \"valueTowardsCompletion\": 0.25, \"interactionType\": 1, \"questionType\": 2, \"questionId\": \"4_ReviewsPerRegion\", \"learnToolsVersion\": \"0.3.4\", \"failureMessage\": \"\", \"exceptionClass\": \"\", \"trace\": \"\"}}, \"*\")"
      ],
      "text/plain": [
       "<IPython.core.display.Javascript object>"
      ]
     },
     "metadata": {},
     "output_type": "display_data"
    },
    {
     "data": {
      "text/markdown": [
       "<span style=\"color:#33cc33\">Correct</span>"
      ],
      "text/plain": [
       "Correct"
      ]
     },
     "metadata": {},
     "output_type": "display_data"
    }
   ],
   "source": [
    "region_1_fill=reviews.region_1.fillna('Unknown')\n",
    "reviews_per_region = region_1_fill.value_counts().sort_values(ascending=False)\n",
    "\n",
    "# Check your answer\n",
    "q4.check()"
   ]
  },
  {
   "cell_type": "code",
   "execution_count": 9,
   "id": "ce32abb2",
   "metadata": {
    "execution": {
     "iopub.execute_input": "2021-12-26T16:31:59.902293Z",
     "iopub.status.busy": "2021-12-26T16:31:59.901530Z",
     "iopub.status.idle": "2021-12-26T16:31:59.910511Z",
     "shell.execute_reply": "2021-12-26T16:31:59.911078Z",
     "shell.execute_reply.started": "2021-12-26T16:30:01.267608Z"
    },
    "papermill": {
     "duration": 0.032015,
     "end_time": "2021-12-26T16:31:59.911256",
     "exception": false,
     "start_time": "2021-12-26T16:31:59.879241",
     "status": "completed"
    },
    "tags": []
   },
   "outputs": [
    {
     "data": {
      "application/javascript": [
       "parent.postMessage({\"jupyterEvent\": \"custom.exercise_interaction\", \"data\": {\"interactionType\": 2, \"questionType\": 2, \"questionId\": \"4_ReviewsPerRegion\", \"learnToolsVersion\": \"0.3.4\", \"valueTowardsCompletion\": 0.0, \"failureMessage\": \"\", \"exceptionClass\": \"\", \"trace\": \"\", \"outcomeType\": 4}}, \"*\")"
      ],
      "text/plain": [
       "<IPython.core.display.Javascript object>"
      ]
     },
     "metadata": {},
     "output_type": "display_data"
    },
    {
     "data": {
      "text/markdown": [
       "<span style=\"color:#3366cc\">Hint:</span> Use `fillna()`, `value_counts()`, and `sort_values()`."
      ],
      "text/plain": [
       "Hint: Use `fillna()`, `value_counts()`, and `sort_values()`."
      ]
     },
     "metadata": {},
     "output_type": "display_data"
    },
    {
     "data": {
      "application/javascript": [
       "parent.postMessage({\"jupyterEvent\": \"custom.exercise_interaction\", \"data\": {\"interactionType\": 3, \"questionType\": 2, \"questionId\": \"4_ReviewsPerRegion\", \"learnToolsVersion\": \"0.3.4\", \"valueTowardsCompletion\": 0.0, \"failureMessage\": \"\", \"exceptionClass\": \"\", \"trace\": \"\", \"outcomeType\": 4}}, \"*\")"
      ],
      "text/plain": [
       "<IPython.core.display.Javascript object>"
      ]
     },
     "metadata": {},
     "output_type": "display_data"
    },
    {
     "data": {
      "text/markdown": [
       "<span style=\"color:#33cc99\">Solution:</span> \n",
       "```python\n",
       "reviews_per_region = reviews.region_1.fillna('Unknown').value_counts().sort_values(ascending=False)\n",
       "```"
      ],
      "text/plain": [
       "Solution: \n",
       "```python\n",
       "reviews_per_region = reviews.region_1.fillna('Unknown').value_counts().sort_values(ascending=False)\n",
       "```"
      ]
     },
     "metadata": {},
     "output_type": "display_data"
    }
   ],
   "source": [
    "q4.hint()\n",
    "q4.solution()"
   ]
  },
  {
   "cell_type": "markdown",
   "id": "fdea12d6",
   "metadata": {
    "papermill": {
     "duration": 0.021239,
     "end_time": "2021-12-26T16:31:59.954374",
     "exception": false,
     "start_time": "2021-12-26T16:31:59.933135",
     "status": "completed"
    },
    "tags": []
   },
   "source": [
    "# Keep going\n",
    "\n",
    "Move on to **[renaming and combining](https://www.kaggle.com/residentmario/renaming-and-combining)**."
   ]
  },
  {
   "cell_type": "markdown",
   "id": "4c634419",
   "metadata": {
    "papermill": {
     "duration": 0.021331,
     "end_time": "2021-12-26T16:31:59.997474",
     "exception": false,
     "start_time": "2021-12-26T16:31:59.976143",
     "status": "completed"
    },
    "tags": []
   },
   "source": [
    "---\n",
    "\n",
    "\n",
    "\n",
    "\n",
    "*Have questions or comments? Visit the [course discussion forum](https://www.kaggle.com/learn/pandas/discussion) to chat with other learners.*"
   ]
  }
 ],
 "metadata": {
  "kernelspec": {
   "display_name": "Python 3",
   "language": "python",
   "name": "python3"
  },
  "language_info": {
   "codemirror_mode": {
    "name": "ipython",
    "version": 3
   },
   "file_extension": ".py",
   "mimetype": "text/x-python",
   "name": "python",
   "nbconvert_exporter": "python",
   "pygments_lexer": "ipython3",
   "version": "3.7.12"
  },
  "papermill": {
   "default_parameters": {},
   "duration": 15.284141,
   "end_time": "2021-12-26T16:32:00.729199",
   "environment_variables": {},
   "exception": null,
   "input_path": "__notebook__.ipynb",
   "output_path": "__notebook__.ipynb",
   "parameters": {},
   "start_time": "2021-12-26T16:31:45.445058",
   "version": "2.3.3"
  }
 },
 "nbformat": 4,
 "nbformat_minor": 5
}
